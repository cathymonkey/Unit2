{
  "nbformat": 4,
  "nbformat_minor": 0,
  "metadata": {
    "colab": {
      "name": "1_Pseudocode.ipynb",
      "provenance": [],
      "authorship_tag": "ABX9TyMQl6K0nM9jzu8mQroLGwHn",
      "include_colab_link": true
    },
    "kernelspec": {
      "name": "python3",
      "display_name": "Python 3"
    }
  },
  "cells": [
    {
      "cell_type": "markdown",
      "metadata": {
        "id": "view-in-github",
        "colab_type": "text"
      },
      "source": [
        "<a href=\"https://colab.research.google.com/github/cathymonkey/Unit2/blob/main/1_Pseudocode.ipynb\" target=\"_parent\"><img src=\"https://colab.research.google.com/assets/colab-badge.svg\" alt=\"Open In Colab\"/></a>"
      ]
    },
    {
      "cell_type": "markdown",
      "metadata": {
        "id": "6ace7wyepYEH"
      },
      "source": [
        "### **001**\n",
        "\n",
        "Given 2 numbers, A and B, Output TRUE if one of them is 10 or if their sum is 10.\n"
      ]
    },
    {
      "cell_type": "code",
      "metadata": {
        "colab": {
          "base_uri": "https://localhost:8080/"
        },
        "id": "14rXL_8AplBJ",
        "outputId": "78fd7e4b-6bd5-4a27-a2cb-4153603eb34f"
      },
      "source": [
        "def Makes10(a,b):\n",
        "    if a == 10 or b == 10:\n",
        "        return True\n",
        "    elif a+b == 10:\n",
        "        return True\n",
        "    else:\n",
        "        return False\n",
        "print(Makes10(9,10))\n",
        "print(Makes10(9,9))\n",
        "print(Makes10(1,9))\n"
      ],
      "execution_count": 1,
      "outputs": [
        {
          "output_type": "stream",
          "text": [
            "True\n",
            "False\n",
            "True\n"
          ],
          "name": "stdout"
        }
      ]
    },
    {
      "cell_type": "markdown",
      "metadata": {
        "id": "iuRmkisMpvM7"
      },
      "source": [
        "### **002**\n",
        "Given three int values, A, B, and C, output the largest."
      ]
    },
    {
      "cell_type": "code",
      "metadata": {
        "colab": {
          "base_uri": "https://localhost:8080/"
        },
        "id": "uV2xZ_Vqp4bh",
        "outputId": "c80d3f97-6334-4c6a-8fdf-87044d745482"
      },
      "source": [
        "def IntMax(a,b,c):\n",
        "    if b > a:\n",
        "        if b >= c:\n",
        "            max = b\n",
        "        else:\n",
        "            max = c\n",
        "    else:\n",
        "        if a > c:\n",
        "            max = a\n",
        "        else:\n",
        "            max = c\n",
        "    return max\n",
        "print(IntMax(1,2,3))\n",
        "print(IntMax(1,3,2))\n",
        "print(IntMax(3,2,1))"
      ],
      "execution_count": 2,
      "outputs": [
        {
          "output_type": "stream",
          "text": [
            "3\n",
            "3\n",
            "3\n"
          ],
          "name": "stdout"
        }
      ]
    },
    {
      "cell_type": "markdown",
      "metadata": {
        "id": "-w_eguhXp-bJ"
      },
      "source": [
        "### **003**\n",
        "Given an integer N, print all the integers from 0 to N.\n",
        "\n",
        "[HL] show also the addition of the numbers.\n",
        "\n"
      ]
    },
    {
      "cell_type": "code",
      "metadata": {
        "colab": {
          "base_uri": "https://localhost:8080/"
        },
        "id": "aP1F5ne_qEx4",
        "outputId": "b735d0bb-ffac-48de-d116-2c7af049376a"
      },
      "source": [
        "def rangeN(n):\n",
        "    total = 0\n",
        "    for i in range(n+1):\n",
        "        total = (n*(n+1))/2\n",
        "        print(i)\n",
        "    print (total)\n",
        "rangeN(6)\n"
      ],
      "execution_count": 3,
      "outputs": [
        {
          "output_type": "stream",
          "text": [
            "0\n",
            "1\n",
            "2\n",
            "3\n",
            "4\n",
            "5\n",
            "6\n",
            "21.0\n"
          ],
          "name": "stdout"
        }
      ]
    },
    {
      "cell_type": "markdown",
      "metadata": {
        "id": "JaQ_TQhXqJ99"
      },
      "source": [
        "### **004**\n",
        "Given an integer N, show all its factors.\n",
        "\n",
        "[HL] show also the addition of the factors show if the result is the same as N."
      ]
    },
    {
      "cell_type": "code",
      "metadata": {
        "colab": {
          "base_uri": "https://localhost:8080/"
        },
        "id": "KXyvonKXqQZ9",
        "outputId": "db1c41b8-e976-42f7-85bf-f07bcedc728d"
      },
      "source": [
        "def perfectN(a):\n",
        "    total = 0\n",
        "    for i in range(1,a,1):\n",
        "        if a % i == 0:\n",
        "            print(i)\n",
        "            total += i\n",
        "    if total == a:\n",
        "        print(\"Sum of factors is:\",a)\n",
        "perfectN(6)"
      ],
      "execution_count": 4,
      "outputs": [
        {
          "output_type": "stream",
          "text": [
            "1\n",
            "2\n",
            "3\n",
            "Sum of factors is: 6\n"
          ],
          "name": "stdout"
        }
      ]
    },
    {
      "cell_type": "markdown",
      "metadata": {
        "id": "KbxuXWMYqSoB"
      },
      "source": [
        "### **005**\n",
        "Given an integer N, show the multiplication table."
      ]
    },
    {
      "cell_type": "code",
      "metadata": {
        "colab": {
          "base_uri": "https://localhost:8080/"
        },
        "id": "jauZ7AugqYdI",
        "outputId": "42eccffc-b896-4912-d1c5-20222c930b63"
      },
      "source": [
        "def tableM(n):\n",
        "    for i in range(1,10):\n",
        "        x = n * i\n",
        "        print(n, \"*\", i ,\"=\",x)\n",
        "tableM(2)"
      ],
      "execution_count": 5,
      "outputs": [
        {
          "output_type": "stream",
          "text": [
            "2 * 1 = 2\n",
            "2 * 2 = 4\n",
            "2 * 3 = 6\n",
            "2 * 4 = 8\n",
            "2 * 5 = 10\n",
            "2 * 6 = 12\n",
            "2 * 7 = 14\n",
            "2 * 8 = 16\n",
            "2 * 9 = 18\n"
          ],
          "name": "stdout"
        }
      ]
    },
    {
      "cell_type": "markdown",
      "metadata": {
        "id": "r5HOJ4aXquZR"
      },
      "source": [
        "### **006**\n",
        "Output TRUE if the given string begins with 'mix', except the 'm' can be anything, so 'pix', '9ix'..all count."
      ]
    },
    {
      "cell_type": "code",
      "metadata": {
        "colab": {
          "base_uri": "https://localhost:8080/"
        },
        "id": "p077ZnBNqylG",
        "outputId": "5beff212-a34f-468a-d8e2-58aee037d4eb"
      },
      "source": [
        "def MixStart(s):\n",
        "   if s[1] == \"i\" and s[2] == \"x\":\n",
        "       return True\n",
        "   else:\n",
        "       return False\n",
        "print(MixStart(\"mix snacks\"))\n",
        "print(MixStart(\"pix snacks\"))\n",
        "print(MixStart(\"piz snacks\"))"
      ],
      "execution_count": 6,
      "outputs": [
        {
          "output_type": "stream",
          "text": [
            "True\n",
            "True\n",
            "False\n"
          ],
          "name": "stdout"
        }
      ]
    },
    {
      "cell_type": "markdown",
      "metadata": {
        "id": "gXV6SIiaq0s3"
      },
      "source": [
        "### **007**\n",
        "Given a string, output each letter with its index.\n",
        "\n"
      ]
    },
    {
      "cell_type": "code",
      "metadata": {
        "colab": {
          "base_uri": "https://localhost:8080/"
        },
        "id": "AUtp-Hqrq61h",
        "outputId": "ea583df0-be5a-411c-b035-31afc99dd3c1"
      },
      "source": [
        "def letters(s):\n",
        "    for i in range(len(s)):\n",
        "        print(i,\"->\",s[i])\n",
        "print(letters(\"hello\"))"
      ],
      "execution_count": 7,
      "outputs": [
        {
          "output_type": "stream",
          "text": [
            "0 -> h\n",
            "1 -> e\n",
            "2 -> l\n",
            "3 -> l\n",
            "4 -> o\n",
            "None\n"
          ],
          "name": "stdout"
        }
      ]
    },
    {
      "cell_type": "markdown",
      "metadata": {
        "id": "ofhSpy3Zq_x-"
      },
      "source": [
        "### **008**\n",
        "Given an array of integers, find the largest absolute value. Tip: you can use the abs() function."
      ]
    },
    {
      "cell_type": "code",
      "metadata": {
        "colab": {
          "base_uri": "https://localhost:8080/"
        },
        "id": "SXjlsHwsrDyl",
        "outputId": "814e8d42-8a72-4069-94a3-dea4bbb74396"
      },
      "source": [
        "def maxAbs(a):\n",
        "    max = 0\n",
        "    for i in range(len(a)):\n",
        "        if abs(a[i]) > max:\n",
        "            max = abs(a[i])\n",
        "    print(max)\n",
        "maxAbs([-4,5,6,7])\n",
        "maxAbs([-1,0,1])\n",
        "maxAbs([-100, 0, 3,-200])"
      ],
      "execution_count": 9,
      "outputs": [
        {
          "output_type": "stream",
          "text": [
            "7\n",
            "1\n",
            "200\n"
          ],
          "name": "stdout"
        }
      ]
    },
    {
      "cell_type": "markdown",
      "metadata": {
        "id": "f_BejW-9rGAL"
      },
      "source": [
        "### **009**\n",
        "Given an array of sorted integers, find the missing number."
      ]
    },
    {
      "cell_type": "code",
      "metadata": {
        "colab": {
          "base_uri": "https://localhost:8080/"
        },
        "id": "GPPt3XF8rJ0b",
        "outputId": "17dcec7d-d866-482b-b30a-ec64d7b8aad4"
      },
      "source": [
        "def missingNumber(a):\n",
        "    for i in range(len(a)-1):\n",
        "        if a[i] != a[i+1] - 1:\n",
        "            miss_number = a[i]+1\n",
        "    print(miss_number)\n",
        "missingNumber([1,2,3,5,6,7])\n",
        "missingNumber([4,5,6,8,9,10])\n",
        "missingNumber([73, 74, 75, 76, 78, 79])"
      ],
      "execution_count": 8,
      "outputs": [
        {
          "output_type": "stream",
          "text": [
            "4\n",
            "7\n",
            "77\n"
          ],
          "name": "stdout"
        }
      ]
    },
    {
      "cell_type": "markdown",
      "metadata": {
        "id": "aOh-FclMrQxU"
      },
      "source": [
        "### **010**\n",
        "Given an array of sorted integers, find the largest difference between neighbouring numbers."
      ]
    },
    {
      "cell_type": "code",
      "metadata": {
        "colab": {
          "base_uri": "https://localhost:8080/"
        },
        "id": "PSs7K17drVUk",
        "outputId": "6a523b43-36e0-4383-d37e-ccdb3efa4b35"
      },
      "source": [
        "def BigNeighbour(numbers):\n",
        "    max_diff = 0\n",
        "    for i in range(len(numbers)-1):\n",
        "        diff = abs(numbers[i]-numbers[i+1])\n",
        "        if diff > max_diff:\n",
        "            max_diff = diff\n",
        "    return max_diff\n",
        "\n",
        "print(BigNeighbour([1,2,3,5,6,7]))\n",
        "print(BigNeighbour([0,5,6,10]))\n",
        "print(BigNeighbour([73,74,174,76,78,79]))"
      ],
      "execution_count": 13,
      "outputs": [
        {
          "output_type": "stream",
          "text": [
            "2\n",
            "5\n",
            "100\n"
          ],
          "name": "stdout"
        }
      ]
    },
    {
      "cell_type": "markdown",
      "metadata": {
        "id": "SacWcL0Drnw4"
      },
      "source": [
        "### **011**\n",
        "Given an array of numbers, output TRUE if the array is length 1 or more, and the first element and the last element are equal. Otherwise output FALSE."
      ]
    },
    {
      "cell_type": "code",
      "metadata": {
        "colab": {
          "base_uri": "https://localhost:8080/"
        },
        "id": "9Oz20V6OrtJE",
        "outputId": "47cb387b-94ad-4ec7-a286-bf90202748a4"
      },
      "source": [
        "def SameFirstLast(x):\n",
        "    return len(x) and x[0] == x[-1]\n",
        "print(SameFirstLast([1,2,3]))\n",
        "print(SameFirstLast([1,2,3,1]))\n",
        "print(SameFirstLast([1,2,1]))"
      ],
      "execution_count": 14,
      "outputs": [
        {
          "output_type": "stream",
          "text": [
            "False\n",
            "True\n",
            "True\n"
          ],
          "name": "stdout"
        }
      ]
    },
    {
      "cell_type": "markdown",
      "metadata": {
        "id": "H8fFVoThs7Bd"
      },
      "source": [
        "### **012**\n",
        "Given an array of words, find the average word length."
      ]
    },
    {
      "cell_type": "code",
      "metadata": {
        "colab": {
          "base_uri": "https://localhost:8080/"
        },
        "id": "9nUBhMXPr1FZ",
        "outputId": "ff858c91-e82a-4ff8-93df-21e061f360b4"
      },
      "source": [
        "def wordlength(x):\n",
        "    sum = 0\n",
        "    for i in range(len(x)):\n",
        "        sum += len(x[i])\n",
        "    avg = sum/len(x)\n",
        "    return avg\n",
        "print(wordlength([\"home\", \"car\", \"travel\", \"beach\"]))\n",
        "print(wordlength([\"sun\",\"sat\",\"cut\",\"can\"]))\n",
        "print(wordlength([\"police\", \"abacus\"]))"
      ],
      "execution_count": 15,
      "outputs": [
        {
          "output_type": "stream",
          "text": [
            "4.5\n",
            "3.0\n",
            "6.0\n"
          ],
          "name": "stdout"
        }
      ]
    }
  ]
}